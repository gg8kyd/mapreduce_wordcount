{
 "cells": [
  {
   "cell_type": "code",
   "execution_count": 17,
   "metadata": {},
   "outputs": [],
   "source": [
    "file1_name = 'word1.tsv'\n",
    "file2_name = 'word2.tsv'\n",
    "file3_name = 'word3.tsv'"
   ]
  },
  {
   "cell_type": "code",
   "execution_count": 18,
   "metadata": {},
   "outputs": [
    {
     "name": "stdout",
     "output_type": "stream",
     "text": [
      "a\n",
      "b\n",
      "a\n",
      "b\n",
      "c\n",
      "c\n",
      "d\n",
      "e\n",
      "f\n",
      "g\n",
      "g\n",
      "g\n",
      "========\n",
      "{'a': 2, 'b': 2, 'c': 2, 'd': 1, 'e': 1, 'f': 1, 'g': 3}\n"
     ]
    }
   ],
   "source": [
    "#mapper 1\n",
    "word_count_mapper1 = {}\n",
    "with open(file1_name, 'r') as f_in:\n",
    "    for line in f_in:\n",
    "        word = line.strip()\n",
    "        if word:\n",
    "            print(word)\n",
    "            word_count_mapper1[word] = word_count_mapper1.get(word, 0) + 1\n",
    "print('========')\n",
    "print(word_count_mapper1)"
   ]
  },
  {
   "cell_type": "code",
   "execution_count": 19,
   "metadata": {},
   "outputs": [
    {
     "name": "stdout",
     "output_type": "stream",
     "text": [
      "a\n",
      "a\n",
      "b\n",
      "c\n",
      "d\n",
      "e\n",
      "e\n",
      "f\n",
      "e\n",
      "g\n",
      "g\n",
      "h\n",
      "j\n",
      "j\n",
      "k\n",
      "l\n",
      "========\n",
      "{'a': 2, 'b': 1, 'c': 1, 'd': 1, 'e': 3, 'f': 1, 'g': 2, 'h': 1, 'j': 2, 'k': 1, 'l': 1}\n"
     ]
    }
   ],
   "source": [
    "#mapper 2\n",
    "word_count_mapper2 = {}\n",
    "with open(file2_name, 'r') as f_in:\n",
    "    for line in f_in:\n",
    "        word = line.strip()\n",
    "        if word:\n",
    "            print(word)\n",
    "            word_count_mapper2[word] = word_count_mapper2.get(word, 0) + 1\n",
    "print('========')\n",
    "print(word_count_mapper2)"
   ]
  },
  {
   "cell_type": "code",
   "execution_count": 20,
   "metadata": {},
   "outputs": [
    {
     "name": "stdout",
     "output_type": "stream",
     "text": [
      "a\n",
      "b\n",
      "c\n",
      "c\n",
      "d\n",
      "d\n",
      "e\n",
      "e\n",
      "g\n",
      "h\n",
      "i\n",
      "i\n",
      "i\n",
      "i\n",
      "j\n",
      "k\n",
      "k\n",
      "k\n",
      "j\n",
      "k\n",
      "k\n",
      "j\n",
      "========\n",
      "{'a': 1, 'b': 1, 'c': 2, 'd': 2, 'e': 2, 'g': 1, 'h': 1, 'i': 4, 'j': 3, 'k': 5}\n"
     ]
    }
   ],
   "source": [
    "#mapper 3\n",
    "word_count_mapper3 = {}\n",
    "with open(file3_name, 'r') as f_in:\n",
    "    for line in f_in:\n",
    "        word = line.strip()\n",
    "        if word:\n",
    "            print(word)\n",
    "            word_count_mapper3[word] = word_count_mapper3.get(word, 0) + 1\n",
    "print('========')\n",
    "print(word_count_mapper3)"
   ]
  },
  {
   "cell_type": "code",
   "execution_count": 21,
   "metadata": {},
   "outputs": [
    {
     "name": "stdout",
     "output_type": "stream",
     "text": [
      "dict_items([('a', 2), ('b', 2), ('c', 2), ('d', 1), ('e', 1), ('f', 1), ('g', 3)])\n",
      "dict_items([('a', 2), ('b', 1), ('c', 1), ('d', 1), ('e', 3), ('f', 1), ('g', 2), ('h', 1), ('j', 2), ('k', 1), ('l', 1)])\n",
      "dict_items([('a', 1), ('b', 1), ('c', 2), ('d', 2), ('e', 2), ('g', 1), ('h', 1), ('i', 4), ('j', 3), ('k', 5)])\n"
     ]
    }
   ],
   "source": [
    "# sort and combine\n",
    "# check dicts\n",
    "print(word_count_mapper1.items())\n",
    "print(word_count_mapper2.items())\n",
    "print(word_count_mapper3.items())"
   ]
  },
  {
   "cell_type": "code",
   "execution_count": 22,
   "metadata": {},
   "outputs": [
    {
     "data": {
      "text/plain": [
       "[('a', 2),\n",
       " ('b', 2),\n",
       " ('c', 2),\n",
       " ('a', 2),\n",
       " ('b', 1),\n",
       " ('c', 1),\n",
       " ('a', 1),\n",
       " ('b', 1),\n",
       " ('c', 2)]"
      ]
     },
     "execution_count": 22,
     "metadata": {},
     "output_type": "execute_result"
    }
   ],
   "source": [
    "reduce_input1 = [ele for ele in word_count_mapper1.items() if ele[0] < 'd'] + \\\n",
    "                [ele for ele in word_count_mapper2.items() if ele[0] < 'd'] + \\\n",
    "                [ele for ele in word_count_mapper3.items() if ele[0] < 'd']\n",
    "reduce_input1"
   ]
  },
  {
   "cell_type": "code",
   "execution_count": 23,
   "metadata": {},
   "outputs": [
    {
     "data": {
      "text/plain": [
       "[('a', 1),\n",
       " ('a', 2),\n",
       " ('a', 2),\n",
       " ('b', 1),\n",
       " ('b', 1),\n",
       " ('b', 2),\n",
       " ('c', 1),\n",
       " ('c', 2),\n",
       " ('c', 2)]"
      ]
     },
     "execution_count": 23,
     "metadata": {},
     "output_type": "execute_result"
    }
   ],
   "source": [
    "reduce_input1 = sorted(reduce_input1, key = lambda x: (x[0], x[1]))\n",
    "reduce_input1"
   ]
  },
  {
   "cell_type": "code",
   "execution_count": 24,
   "metadata": {},
   "outputs": [
    {
     "data": {
      "text/plain": [
       "[('d', 1),\n",
       " ('d', 1),\n",
       " ('d', 2),\n",
       " ('e', 1),\n",
       " ('e', 2),\n",
       " ('e', 3),\n",
       " ('f', 1),\n",
       " ('f', 1),\n",
       " ('g', 1),\n",
       " ('g', 2),\n",
       " ('g', 3),\n",
       " ('h', 1),\n",
       " ('h', 1),\n",
       " ('i', 4),\n",
       " ('j', 2),\n",
       " ('j', 3),\n",
       " ('k', 1),\n",
       " ('k', 5),\n",
       " ('l', 1)]"
      ]
     },
     "execution_count": 24,
     "metadata": {},
     "output_type": "execute_result"
    }
   ],
   "source": [
    "reduce_input2 = [ele for ele in word_count_mapper1.items() if ele[0] >= 'd'] + \\\n",
    "                [ele for ele in word_count_mapper2.items() if ele[0] >= 'd'] + \\\n",
    "                [ele for ele in word_count_mapper3.items() if ele[0] >= 'd']\n",
    "reduce_input2 = sorted(reduce_input2, key = lambda x: (x[0], x[1]))\n",
    "reduce_input2"
   ]
  },
  {
   "cell_type": "code",
   "execution_count": 25,
   "metadata": {},
   "outputs": [
    {
     "name": "stdout",
     "output_type": "stream",
     "text": [
      "('a', 1)\n",
      "('a', 2)\n",
      "('a', 2)\n",
      "('b', 1)\n",
      "('b', 1)\n",
      "('b', 2)\n",
      "('c', 1)\n",
      "('c', 2)\n",
      "('c', 2)\n"
     ]
    },
    {
     "data": {
      "text/plain": [
       "{'a': 5, 'b': 4, 'c': 5}"
      ]
     },
     "execution_count": 25,
     "metadata": {},
     "output_type": "execute_result"
    }
   ],
   "source": [
    "# reduce step:\n",
    "word_count_reducer1 = {}\n",
    "# agg reduce_input1\n",
    "for ele in reduce_input1:\n",
    "    print(ele)\n",
    "    word_count_reducer1[ele[0]] = word_count_reducer1.get(ele[0], 0) + ele[1]\n",
    "word_count_reducer1"
   ]
  },
  {
   "cell_type": "code",
   "execution_count": 26,
   "metadata": {},
   "outputs": [
    {
     "name": "stdout",
     "output_type": "stream",
     "text": [
      "('d', 1)\n",
      "('d', 1)\n",
      "('d', 2)\n",
      "('e', 1)\n",
      "('e', 2)\n",
      "('e', 3)\n",
      "('f', 1)\n",
      "('f', 1)\n",
      "('g', 1)\n",
      "('g', 2)\n",
      "('g', 3)\n",
      "('h', 1)\n",
      "('h', 1)\n",
      "('i', 4)\n",
      "('j', 2)\n",
      "('j', 3)\n",
      "('k', 1)\n",
      "('k', 5)\n",
      "('l', 1)\n"
     ]
    },
    {
     "data": {
      "text/plain": [
       "{'d': 4, 'e': 6, 'f': 2, 'g': 6, 'h': 2, 'i': 4, 'j': 5, 'k': 6, 'l': 1}"
      ]
     },
     "execution_count": 26,
     "metadata": {},
     "output_type": "execute_result"
    }
   ],
   "source": [
    "# reduce step:\n",
    "word_count_reducer2 = {}\n",
    "# agg reduce_input2\n",
    "for ele in reduce_input2:\n",
    "    print(ele)\n",
    "    word_count_reducer2[ele[0]] = word_count_reducer2.get(ele[0], 0) + ele[1]\n",
    "word_count_reducer2"
   ]
  },
  {
   "cell_type": "code",
   "execution_count": 27,
   "metadata": {},
   "outputs": [
    {
     "data": {
      "text/plain": [
       "{'a': 5,\n",
       " 'b': 4,\n",
       " 'c': 5,\n",
       " 'd': 4,\n",
       " 'e': 6,\n",
       " 'f': 2,\n",
       " 'g': 6,\n",
       " 'h': 2,\n",
       " 'i': 4,\n",
       " 'j': 5,\n",
       " 'k': 6,\n",
       " 'l': 1}"
      ]
     },
     "execution_count": 27,
     "metadata": {},
     "output_type": "execute_result"
    }
   ],
   "source": [
    "# combine final reducer\n",
    "word_count_reducer = {}\n",
    "for key in word_count_reducer1:\n",
    "    word_count_reducer[key] = word_count_reducer1[key]\n",
    "for key in word_count_reducer2:\n",
    "    word_count_reducer[key] = word_count_reducer2[key]\n",
    "word_count_reducer"
   ]
  },
  {
   "cell_type": "code",
   "execution_count": null,
   "metadata": {},
   "outputs": [],
   "source": []
  }
 ],
 "metadata": {
  "kernelspec": {
   "display_name": "Python 3",
   "language": "python",
   "name": "python3"
  },
  "language_info": {
   "codemirror_mode": {
    "name": "ipython",
    "version": 3
   },
   "file_extension": ".py",
   "mimetype": "text/x-python",
   "name": "python",
   "nbconvert_exporter": "python",
   "pygments_lexer": "ipython3",
   "version": "3.7.4"
  }
 },
 "nbformat": 4,
 "nbformat_minor": 2
}
